{
 "cells": [
  {
   "cell_type": "code",
   "execution_count": 1,
   "metadata": {
    "ExecuteTime": {
     "end_time": "2020-01-30T02:35:09.989672Z",
     "start_time": "2020-01-30T02:35:04.640952Z"
    }
   },
   "outputs": [],
   "source": [
    "import pandas as pd\n",
    "import numpy as np\n",
    "import spacy"
   ]
  },
  {
   "cell_type": "code",
   "execution_count": 31,
   "metadata": {
    "ExecuteTime": {
     "end_time": "2020-01-30T12:24:16.912243Z",
     "start_time": "2020-01-30T12:24:16.311873Z"
    }
   },
   "outputs": [],
   "source": [
    "reviews = pd.read_csv('data/reviews.csv')\n",
    "nlp = spacy.load('en_core_web_sm')"
   ]
  },
  {
   "cell_type": "code",
   "execution_count": 36,
   "metadata": {
    "ExecuteTime": {
     "end_time": "2020-01-30T12:27:16.354769Z",
     "start_time": "2020-01-30T12:27:16.246362Z"
    }
   },
   "outputs": [
    {
     "data": {
      "text/plain": [
       "[\"['(As I\\\\'m writing this review, Darth Vader\\\\'s theme music begins to build in my mind...)\\\\r\\\\n\\\\r\\\\nWell, it actually has a title, what the Darth Vader theme.\",\n",
       " 'And that title is \"The Imperial March\", composed by the great John Williams, whom, as many of you may already know, also composed the theme music for \"Jaws\" - that legendary score simply titled, \"Main Title (Theme From Jaws)\".\\\\r\\\\n\\\\r\\\\nNow, with that lil\\\\\\' bit of trivia aside, let us procede with the fabled film currently under review:',\n",
       " 'Star Wars.',\n",
       " 'It had been at a drive-in theater in some small Illinois town or other where my mother, my older brother, and I had spent our weekly \"Movie Date Night\" watching this George Lucas directed cult masterpiece from our car in the parking lot.',\n",
       " 'On the huge outdoor screen, the film appeared to be a silent one, but thanks to an old wire-attached speaker, we were able to hear both the character dialogue and soundtrack loud and clear.',\n",
       " \"We even had ourselves a carful of vittles and snacks - walked back to our vehicle, of course, from the wide-opened cinema\\\\'s briefly distant concession stand.\",\n",
       " 'Indeed, it had been a lovely summer evening that July.\\\\r\\\\n\\\\r\\\\nFrom the time the film started, with my brother and I following along as our mother sped-read the opening crawl',\n",
       " ', I began to feel rather antsy, thinking that this movie, the first in a franchise that would soon be world-renowned, was going to be boring, due to its genre being Science Fiction: A respectably likable, but not a passionately lovable genre of mine DURING THAT TIME.',\n",
       " \"I just didn\\\\'t believe I was going to like Star Wars all that much ...\",\n",
       " 'But I soon found myself intrigued ...',\n",
       " 'And awed.\\\\r\\\\n\\\\r\\\\nGeorge Lucas is a man with a phenomenal, and I do mean phenomenal imagination.',\n",
       " \"Apart from his human characters (Han, Luke, Leia, and Obi-Wan Kenobi, among others), the droids: C-3P0, R2-D2, R2-series, and IG-88, not to mention those unusual characters like Jabba the Hutt, Yoda, and Chewbacca, just to name a few, are all creations of Lucas\\\\'s phenomenal imagination.\",\n",
       " 'And I was completely in awe of each one of these strange beings.',\n",
       " 'Then there was Vader ...',\n",
       " 'And the evil Emperor ...',\n",
       " 'And the Stormtroopers ...',\n",
       " 'And the Spacecraft ...',\n",
       " \"And the galaxies (I\\\\'ll admit that I am a huge lover of the Universe in all its Celestial glory) ...\",\n",
       " 'And the magnificent planets ...',\n",
       " 'The Lightsabers ...',\n",
       " 'And so on.',\n",
       " 'Star Wars is a gorgeously shot space opera; it is truly an epic masterpiece.',\n",
       " 'We enjoyed this film tremendously.',\n",
       " 'And my brother was a die-hard fan from that night onward.',\n",
       " 'He, my brother, had even received for Christmas that year, nearly every Star Wars action figure that my mother could find, including two of the spacecraft:',\n",
       " 'The Millennium Falcon and Star Destroyer.',\n",
       " 'The Death Star space station had too been wrapped beneath our Christmas tree - tagged with his name.',\n",
       " 'It was totally crazy, what the new Star Wars era.',\n",
       " 'Frenzied!',\n",
       " 'But it was great ...',\n",
       " \"Even still, to this day.\\\\r\\\\n\\\\r\\\\nI don\\\\'t personally know anyone whom has yet to see Star Wars, but that certainly doesn\\\\'t suggest there are still a few people out there who haven\\\\'t.\",\n",
       " \"And if you\\\\'re one of the latter, then you should know that this classic space opera comes highly recommended.\",\n",
       " \"The entire series is told backwards, so you\\\\'ll definitely want to see Star Wars first, followed by its two sequels: The Empire Strikes Back and Return of the Jedi ...\",\n",
       " 'In that order.',\n",
       " \"I trust that you\\\\'ll too discover yourself to be a lifelong cult fan in the wake.\",\n",
       " \"😊', 'A long time ago in a childhood not too far away...\",\n",
       " '\\\\r\\\\n\\\\r\\\\nPrincess Leia is captured and held hostage by the Imperial Army as it seeks to rule the Galactic Empire.',\n",
       " 'An old Jedi Knight by the name of Ben',\n",
       " '\"Obi-Wan\" Kenobi may just be hers, and the rebels only hope.',\n",
       " 'Teaming up with farm boy Luke Skywalker, scoundrel Captain Han Solo, and a couple of quirky droids, Kenobi sets off on a mission that could well shape the destiny of the Galaxy, and all who dwell within it.\\\\r\\\\n\\\\r\\\\nBack in 1977 I was but a wee 11 year old boy, weened on films from all genres by my movie loving parents, I had no idea that Star Wars was to have the same impact on me as Jaws had two summers previously, where yet again I found myself queueing around the block for two whole hours to see a film in a one screen theatre.',\n",
       " 'My love of cinema firmly cemented, Star Wars was the start of a love affair that lasts to this very day.\\\\r\\\\n\\\\r\\\\nAs',\n",
       " 'the years have rolled by and my love of cinema has taken on more in-depth and serious tones, I have come to realise that Star Wars proves to be a far from flawless picture.',\n",
       " 'Certainly its detractors do point to some frayed acting and call the plot structure a jazzed up good versus evil axis, while the charge of George Lucas referencing many prior pictures most assuredly stands, but really do those things matter?',\n",
       " 'No they do not, because Star Wars opened up a new world of cinema, something of a portal to youngsters such as I, it got people talking and debating about the merits of model work in films (which is of an extraordinary high standard here), it nudged film makers to explore being bigger and bolder in their approach, and crucially, above all else, it got film goers hungry again, a hankering for more please if you may.',\n",
       " 'Now it has to be said that all that followed 20th',\n",
       " \"Century Fox\\\\'s historic blockbuster didn\\\\'t run with the baton, in fact most pale into comparison on impact value, but for better or worse (depending on the discerning viewers peccadilloes), Star Wars stands as a bastion of adventure laden entertainment.\\\\r\\\\n\\\\r\\\\nIt is by definition one of the most successful films in history, George Lucas perhaps didn\\\\'t know it at the time, but in what was to become an almost operatic anthology, he didn\\\\'t just make a movie, he created a whole new world seeping with style and rich texture.\",\n",
       " \"Almost as amazing as the success of the series, is how it has become part of modern day pop culture, anything from religion to everyday speak has at some time or another referenced Lucas\\\\' baby.\",\n",
       " \"Ultimately, though, it\\\\'s one single thing that made (and still does make)\",\n",
       " 'Star Wars',\n",
       " \"so great, it\\\\'s that it has the ability to lift the audience into a rousing united\",\n",
       " 'feel good cheer; and that is something that few films can ever lay claim too.',\n",
       " \"In 1977 it was an awe inspiring event to watch in the theatre, now here in my middle age it\\\\'s an event that is like hugging a dear old friend, a friend that I know will never ever let me down no matter how many times I turn to it.\",\n",
       " \"10/10']\"]"
      ]
     },
     "execution_count": 36,
     "metadata": {},
     "output_type": "execute_result"
    }
   ],
   "source": [
    "doc = nlp(reviews.loc[1, 'reviews'])\n",
    "ls = [sent.text for sent in doc.sents]\n",
    "ls"
   ]
  }
 ],
 "metadata": {
  "kernelspec": {
   "display_name": "Python 3",
   "language": "python",
   "name": "python3"
  },
  "language_info": {
   "codemirror_mode": {
    "name": "ipython",
    "version": 3
   },
   "file_extension": ".py",
   "mimetype": "text/x-python",
   "name": "python",
   "nbconvert_exporter": "python",
   "pygments_lexer": "ipython3",
   "version": "3.7.5"
  },
  "latex_envs": {
   "LaTeX_envs_menu_present": true,
   "autoclose": false,
   "autocomplete": true,
   "bibliofile": "biblio.bib",
   "cite_by": "apalike",
   "current_citInitial": 1,
   "eqLabelWithNumbers": true,
   "eqNumInitial": 1,
   "hotkeys": {
    "equation": "Ctrl-E",
    "itemize": "Ctrl-I"
   },
   "labels_anchors": false,
   "latex_user_defs": false,
   "report_style_numbering": false,
   "user_envs_cfg": false
  },
  "toc": {
   "base_numbering": 1,
   "nav_menu": {},
   "number_sections": true,
   "sideBar": true,
   "skip_h1_title": false,
   "title_cell": "Table of Contents",
   "title_sidebar": "Contents",
   "toc_cell": false,
   "toc_position": {},
   "toc_section_display": true,
   "toc_window_display": false
  },
  "varInspector": {
   "cols": {
    "lenName": 16,
    "lenType": 16,
    "lenVar": 40
   },
   "kernels_config": {
    "python": {
     "delete_cmd_postfix": "",
     "delete_cmd_prefix": "del ",
     "library": "var_list.py",
     "varRefreshCmd": "print(var_dic_list())"
    },
    "r": {
     "delete_cmd_postfix": ") ",
     "delete_cmd_prefix": "rm(",
     "library": "var_list.r",
     "varRefreshCmd": "cat(var_dic_list()) "
    }
   },
   "types_to_exclude": [
    "module",
    "function",
    "builtin_function_or_method",
    "instance",
    "_Feature"
   ],
   "window_display": false
  }
 },
 "nbformat": 4,
 "nbformat_minor": 2
}
