{
 "cells": [
  {
   "cell_type": "code",
   "execution_count": 406,
   "metadata": {
    "ExecuteTime": {
     "end_time": "2020-01-27T05:25:15.050209Z",
     "start_time": "2020-01-27T05:25:15.037808Z"
    },
    "hide_input": false
   },
   "outputs": [],
   "source": [
    "import pandas as pd\n",
    "import numpy as np\n",
    "import matplotlib.pyplot as plt\n",
    "import seaborn as sns\n",
    "import requests\n",
    "import json\n",
    "import re\n",
    "from datetime import datetime as dt\n",
    "from tqdm import tqdm\n",
    "import scipy.stats as ss\n",
    "from sklearn.model_selection import train_test_split, cross_val_score, RandomizedSearchCV, learning_curve\n",
    "from sklearn.preprocessing import StandardScaler, PolynomialFeatures\n",
    "from sklearn.metrics import recall_score, plot_precision_recall_curve\n",
    "from sklearn.linear_model import LogisticRegression\n",
    "from sklearn.neighbors import KNeighborsClassifier\n",
    "from sklearn.svm import SVC\n",
    "from sklearn.ensemble import RandomForestClassifier\n",
    "from sklearn.neural_network import MLPClassifier\n",
    "from lightgbm import LGBMClassifier\n",
    "from xgboost import XGBClassifier\n",
    "from sklearn.ensemble import StackingClassifier\n",
    "from sklearn.pipeline import Pipeline\n",
    "from yellowbrick.classifier import PrecisionRecallCurve\n",
    "\n",
    "%matplotlib inline"
   ]
  },
  {
   "cell_type": "markdown",
   "metadata": {},
   "source": [
    "# Extract"
   ]
  },
  {
   "cell_type": "code",
   "execution_count": 28,
   "metadata": {
    "ExecuteTime": {
     "end_time": "2020-01-26T15:44:57.270662Z",
     "start_time": "2020-01-26T15:44:57.268366Z"
    },
    "hide_input": false
   },
   "outputs": [],
   "source": [
    "key = '69d03443c6dda74d5729a2be5debd168'"
   ]
  },
  {
   "cell_type": "code",
   "execution_count": 29,
   "metadata": {
    "ExecuteTime": {
     "end_time": "2020-01-26T15:44:59.310210Z",
     "start_time": "2020-01-26T15:44:59.292239Z"
    },
    "hide_input": false
   },
   "outputs": [],
   "source": [
    "# tmdb_api_url = 'https://api.themoviedb.org/3/'\n",
    "\n",
    "# def get_genres(api_key=key):\n",
    "#     api_key = f'api_key={api_key}'\n",
    "#     tmdb_api_url = 'https://api.themoviedb.org/3/'\n",
    "    \n",
    "#     get_genres = 'genre/movie/list'\n",
    "#     response = requests.get(tmdb_api_url + '?'.join([get_genres, api_key]))\n",
    "#     genres = response.json()['genres']\n",
    "    \n",
    "#     genres_ls = [d['name'] for d in genres]\n",
    "#     genres_ls.append('Foreign')\n",
    "#     genres_ls = sorted(genres_ls)\n",
    "#     n_genres = len(genres_ls)\n",
    "    \n",
    "#     return {'n_genres': n_genres, 'genres_ls': genres_ls}\n",
    "\n",
    "# def get_details_reviews(api_key=key, goodness_thresh=80, **kwargs):\n",
    "#     api_key = f'api_key={api_key}'\n",
    "#     n_genres = kwargs['n_genres']\n",
    "#     genres_ls = kwargs['genres_ls']\n",
    "    \n",
    "#     tmdb = pd.read_csv('data/tmdb_5000_movies.csv')\n",
    "\n",
    "#     tmdb['goodness'] = tmdb['vote_average'] * tmdb['vote_count'] / tmdb['vote_count'].max()\n",
    "#     # threshold -> 80th percentile (default)\n",
    "#     threshold = np.around(np.percentile(tmdb['goodness'], goodness_thresh), 2)\n",
    "#     # encoding 1 <-> goodness >= threshold\n",
    "#     tmdb['goodness_enc'] = 0\n",
    "#     tmdb.loc[tmdb['goodness'] >= threshold, 'goodness_enc'] = 1\n",
    "    \n",
    "#     cols_to_keep = ['id', 'title', 'status', 'release_date', 'budget', 'revenue',\n",
    "#                     'original_language', 'runtime', 'popularity', 'goodness_enc']\n",
    "#     # keeping only movies that have a positive vote_count\n",
    "#     tmdb_clean = tmdb.loc[tmdb['vote_count'] > 0, cols_to_keep].dropna(axis=0).reset_index(drop=True)\n",
    "    \n",
    "#     reviews = pd.Series(name='reviews')\n",
    "#     df_genres = pd.DataFrame(columns=genres_ls)\n",
    "    \n",
    "#     for i, movie_id in enumerate(tqdm(tmdb_clean['id'])):\n",
    "#         get_reviews = f'movie/{movie_id}/reviews'\n",
    "#         response_reviews = requests.get(tmdb_api_url + '?'.join([get_reviews, api_key]))\n",
    "#         if response_reviews.status_code == 200:\n",
    "#             reviews.loc[i] = [d['content'] for d in response_reviews.json()['results']]\n",
    "#         else:\n",
    "#             reviews.loc[i] = []\n",
    "\n",
    "#         df_genres.loc[i] = np.zeros(n_genres, dtype=int)\n",
    "#         movie_genres = re.findall(r'\\\"name\\\": \\\"([A-Za-z\\s]+)\\\"', tmdb['genres'][i])\n",
    "#         df_genres.loc[i, movie_genres] = 1\n",
    "        \n",
    "#     df = pd.concat([tmdb_clean, df_genres, reviews], axis=1).sort_values('id').reset_index(drop=True)\n",
    "\n",
    "#     # turning dtype of release_date to datetime and extracting only the year\n",
    "#     df['release_date'] = pd.to_datetime(df['release_date'], infer_datetime_format=True).dt.year\n",
    "#     df = df.rename(columns={'release_date': 'release_year'})\n",
    "\n",
    "#     # keeping only movies that have been released\n",
    "#     df = df[df['status'] == 'Released'].reset_index(drop=True)\n",
    "#     details = df.drop(['status', 'reviews', 'Foreign', 'TV Movie'], axis=1)\n",
    "#     details.to_csv('data/details.csv', index=False)\n",
    "    \n",
    "#     reviews = df[['id', 'title', 'reviews', 'goodness_enc']]\n",
    "#     reviews.to_csv('data/reviews.csv', index=False)"
   ]
  },
  {
   "cell_type": "code",
   "execution_count": 30,
   "metadata": {
    "ExecuteTime": {
     "end_time": "2020-01-26T17:20:27.736657Z",
     "start_time": "2020-01-26T15:45:03.868761Z"
    },
    "hide_input": false,
    "scrolled": false
   },
   "outputs": [
    {
     "name": "stderr",
     "output_type": "stream",
     "text": [
      "100%|██████████| 4740/4740 [1:35:23<00:00,  1.21s/it]  \n"
     ]
    }
   ],
   "source": [
    "get_details_reviews()"
   ]
  },
  {
   "cell_type": "markdown",
   "metadata": {},
   "source": [
    "# Load and Clean"
   ]
  },
  {
   "cell_type": "code",
   "execution_count": 343,
   "metadata": {
    "ExecuteTime": {
     "end_time": "2020-01-27T04:34:29.045286Z",
     "start_time": "2020-01-27T04:34:29.039251Z"
    }
   },
   "outputs": [],
   "source": [
    "def clean_details(df):\n",
    "    # binning low count languages (<10) in category called 'other'\n",
    "    lang_counts = df['original_language'].value_counts()\n",
    "    df.loc[df['original_language'].isin(lang_counts[lang_counts < 10].index), 'original_language'] = 'other'\n",
    "    \n",
    "    # dropping features that are irrelevant for prediction\n",
    "    df.drop(['id', 'title'], axis=1, inplace=True)\n",
    "    \n",
    "    return df\n",
    "\n",
    "# def clean_reviews(df):\n",
    "#     return df\n",
    "\n",
    "def get_data(csv_file, target='goodness_enc'):\n",
    "    df = pd.read_csv(f'data/{csv_file}.csv')\n",
    "    \n",
    "    df_clean = clean_details(df)\n",
    "    X = df_clean.drop(target, axis=1)\n",
    "    X = pd.get_dummies(X, drop_first=True)\n",
    "    y = df_clean[target]\n",
    "    \n",
    "    return {'X': X, 'y': y}"
   ]
  },
  {
   "cell_type": "markdown",
   "metadata": {},
   "source": [
    "# Transform"
   ]
  },
  {
   "cell_type": "code",
   "execution_count": 344,
   "metadata": {
    "ExecuteTime": {
     "end_time": "2020-01-27T04:34:33.206156Z",
     "start_time": "2020-01-27T04:34:33.201938Z"
    }
   },
   "outputs": [],
   "source": [
    "def split_func(test_size=.2, **kwargs):\n",
    "    X = kwargs['X']\n",
    "    y = kwargs['y']\n",
    "    \n",
    "    X_train, X_test, y_train, y_test = train_test_split(X,\n",
    "                                                        y,\n",
    "                                                        test_size=test_size,\n",
    "                                                        stratify=y)\n",
    "    \n",
    "    return X_train, X_test, y_train, y_test"
   ]
  },
  {
   "cell_type": "code",
   "execution_count": 215,
   "metadata": {
    "ExecuteTime": {
     "end_time": "2020-01-27T00:02:28.111650Z",
     "start_time": "2020-01-27T00:02:28.064097Z"
    }
   },
   "outputs": [],
   "source": [
    "X_train, X_test, y_train, y_test = split_func(**get_data(csv_file='details'))"
   ]
  },
  {
   "cell_type": "markdown",
   "metadata": {},
   "source": [
    "# Models"
   ]
  },
  {
   "cell_type": "markdown",
   "metadata": {},
   "source": [
    "## Logistic Regression"
   ]
  },
  {
   "cell_type": "code",
   "execution_count": 294,
   "metadata": {
    "ExecuteTime": {
     "end_time": "2020-01-27T04:04:00.452819Z",
     "start_time": "2020-01-27T04:04:00.447049Z"
    }
   },
   "outputs": [],
   "source": [
    "logr_clf = LogisticRegression(max_iter=5000,\n",
    "                              random_state=42,\n",
    "                              n_jobs=-1)\n",
    "\n",
    "logr_params = {'logr__penalty': ['l1', 'l2', 'elasticnet'],\n",
    "               'logr__C': ss.uniform(0, 100),\n",
    "               'logr__l1_ratio': ss.uniform(0, 1)}"
   ]
  },
  {
   "cell_type": "markdown",
   "metadata": {},
   "source": [
    "## k Nearest Neighbors  (kNN)"
   ]
  },
  {
   "cell_type": "code",
   "execution_count": 295,
   "metadata": {
    "ExecuteTime": {
     "end_time": "2020-01-27T04:04:01.782909Z",
     "start_time": "2020-01-27T04:04:01.777812Z"
    }
   },
   "outputs": [],
   "source": [
    "knn_clf = KNeighborsClassifier(n_jobs=-1)\n",
    "\n",
    "knn_params = {'knn__n_neighbors': range(1,100,2),\n",
    "              'knn__weights': ['uniform', 'distance']}"
   ]
  },
  {
   "cell_type": "markdown",
   "metadata": {},
   "source": [
    "## Support Vector Machine (SVM)"
   ]
  },
  {
   "cell_type": "code",
   "execution_count": 296,
   "metadata": {
    "ExecuteTime": {
     "end_time": "2020-01-27T04:04:03.027223Z",
     "start_time": "2020-01-27T04:04:03.023076Z"
    }
   },
   "outputs": [],
   "source": [
    "svm_clf = SVC(max_iter=5000,\n",
    "              random_state=42)\n",
    "\n",
    "svm_params = {'svm__C': ss.uniform(0, 100),\n",
    "              'svm__kernel': ['linear', 'poly', 'rbf', 'sigmoid'],\n",
    "              'svm__degree': [1, 2, 3],\n",
    "              'svm__coef0': ss.uniform(0, 10)}"
   ]
  },
  {
   "cell_type": "markdown",
   "metadata": {},
   "source": [
    "## Random Forest (RF)"
   ]
  },
  {
   "cell_type": "code",
   "execution_count": 297,
   "metadata": {
    "ExecuteTime": {
     "end_time": "2020-01-27T04:04:04.828935Z",
     "start_time": "2020-01-27T04:04:04.823315Z"
    }
   },
   "outputs": [],
   "source": [
    "rf_clf = RandomForestClassifier(n_jobs=-1,\n",
    "                                random_state=42)\n",
    "\n",
    "rf_params = {'rf__n_estimators': range(1,500),\n",
    "             'rf__criterion': ['gini', 'entropy'],\n",
    "             'rf__max_depth': [1, 2, 3, 4],\n",
    "             'rf__max_features': range(1, X_train.shape[1]),\n",
    "             'rf__max_samples': range(1, X_train.shape[0])}"
   ]
  },
  {
   "cell_type": "markdown",
   "metadata": {},
   "source": [
    "## Light Gradient Boosting Machine (LGBM)"
   ]
  },
  {
   "cell_type": "code",
   "execution_count": 298,
   "metadata": {
    "ExecuteTime": {
     "end_time": "2020-01-27T04:04:06.417503Z",
     "start_time": "2020-01-27T04:04:06.403618Z"
    }
   },
   "outputs": [],
   "source": [
    "lgbm_clf = LGBMClassifier(max_iter=5000,\n",
    "                          random_state=42,\n",
    "                          n_jobs=-1)\n",
    "\n",
    "lgbm_params = {'lgbm__boosting_type': ['gbdt', 'dart', 'goss', 'rf'],\n",
    "               'lgbm__max_depth': [1, 2, 3, 4],\n",
    "               'lgbm__learning_rate': ss.uniform(0, 1),\n",
    "               'lgbm__n_estimators': range(1,500),\n",
    "               'lgbm__subsample': ss.uniform(0.001, 1),\n",
    "               'lgbm__subsample_freq': range(1,101),\n",
    "               'lgbm__colsample_bytree': ss.uniform(0.001, 1),\n",
    "               'lgbm__reg_alpha': ss.uniform(0, 1),\n",
    "               'lgbm__reg_lambda': ss.uniform(0, 1)}"
   ]
  },
  {
   "cell_type": "markdown",
   "metadata": {},
   "source": [
    "## Extreme Gradient Boosting (XGBoost)"
   ]
  },
  {
   "cell_type": "code",
   "execution_count": 299,
   "metadata": {
    "ExecuteTime": {
     "end_time": "2020-01-27T04:04:07.976819Z",
     "start_time": "2020-01-27T04:04:07.969512Z"
    }
   },
   "outputs": [],
   "source": [
    "xgb_clf = XGBClassifier(max_iter=5000,\n",
    "                        random_state=42)\n",
    "\n",
    "xgb_params = {'xgb__max_depth': [1, 2, 3, 4],\n",
    "              'xgb__learning_rate': ss.uniform(0, 1),\n",
    "              'xgb__boster': ['gbtree', 'gblinear', 'dart'],\n",
    "              'xgb__subsample': ss.uniform(0.001, 1),\n",
    "              'xgb__colsample_bytree': ss.uniform(0.001, 1),\n",
    "              'xgb__colsample_bylevel': ss.uniform(0.001, 1),\n",
    "              'xgb__colsample_bynode': ss.uniform(0.001, 1),\n",
    "              'xgb__reg_alpha': ss.uniform(0, 1),\n",
    "              'xgb__reg_lambda': ss.uniform(0, 1),\n",
    "              'xgb__num_parallel_tree': range(1,500)}"
   ]
  },
  {
   "cell_type": "markdown",
   "metadata": {},
   "source": [
    "## Multilayer Perceptron (MLP)"
   ]
  },
  {
   "cell_type": "code",
   "execution_count": 300,
   "metadata": {
    "ExecuteTime": {
     "end_time": "2020-01-27T04:04:09.546201Z",
     "start_time": "2020-01-27T04:04:09.539276Z"
    }
   },
   "outputs": [],
   "source": [
    "mlp_clf = MLPClassifier(max_iter=5000,\n",
    "                        early_stopping=True,\n",
    "                        random_state=42)\n",
    "\n",
    "mlp_params = {'mlp__hidden_layer_sizes': range(1,500),\n",
    "              'mlp__activation': ['identity', 'logistic', 'tanh', 'relu'],\n",
    "              'mlp__solver': ['lbfgs', 'sgd', 'adam'],\n",
    "              'mlp__alpha': ss.uniform(0, 1),\n",
    "              'mlp__learning_rate': ['constant', 'invscaling', 'adaptive'],\n",
    "              'mlp__learning_rate_init': ss.uniform(0, 1),\n",
    "              'mlp__momentum': ss.uniform(0, 1),\n",
    "              'mlp__beta_1': ss.uniform(0, 0.999),\n",
    "              'mlp__beta_2': ss.uniform(0, 0.999)}"
   ]
  },
  {
   "cell_type": "markdown",
   "metadata": {},
   "source": [
    "## Pipeline"
   ]
  },
  {
   "cell_type": "code",
   "execution_count": 301,
   "metadata": {
    "ExecuteTime": {
     "end_time": "2020-01-27T04:04:12.023591Z",
     "start_time": "2020-01-27T04:04:12.020579Z"
    }
   },
   "outputs": [],
   "source": [
    "models = {'logr': [logr_clf, logr_params],\n",
    "          'knn': [knn_clf, knn_params],\n",
    "          'svm': [svm_clf, svm_params],\n",
    "          'rf': [rf_clf, rf_params],\n",
    "          'lgbm': [lgbm_clf, lgbm_params],\n",
    "          'xgb': [xgb_clf, xgb_params],\n",
    "          'mlp': [mlp_clf, mlp_params]}"
   ]
  },
  {
   "cell_type": "code",
   "execution_count": 281,
   "metadata": {
    "ExecuteTime": {
     "end_time": "2020-01-27T03:56:46.253154Z",
     "start_time": "2020-01-27T03:44:25.483853Z"
    }
   },
   "outputs": [
    {
     "name": "stdout",
     "output_type": "stream",
     "text": [
      "Fitting 3 folds for each of 100 candidates, totalling 300 fits\n"
     ]
    },
    {
     "name": "stderr",
     "output_type": "stream",
     "text": [
      "[Parallel(n_jobs=-1)]: Using backend LokyBackend with 8 concurrent workers.\n",
      "[Parallel(n_jobs=-1)]: Done  34 tasks      | elapsed:   20.6s\n",
      "[Parallel(n_jobs=-1)]: Done 184 tasks      | elapsed:  1.3min\n",
      "[Parallel(n_jobs=-1)]: Done 300 out of 300 | elapsed:  1.8min finished\n",
      "/home/jeffc/anaconda3/lib/python3.7/site-packages/sklearn/linear_model/_logistic.py:1499: UserWarning: l1_ratio parameter is only used when penalty is 'elasticnet'. Got (penalty=l2)\n",
      "  \"(penalty={})\".format(self.penalty))\n",
      "[Parallel(n_jobs=-1)]: Using backend LokyBackend with 8 concurrent workers.\n",
      "[Parallel(n_jobs=-1)]: Done   1 out of   1 | elapsed:    4.0s finished\n",
      "[Parallel(n_jobs=-1)]: Using backend LokyBackend with 8 concurrent workers.\n"
     ]
    },
    {
     "name": "stdout",
     "output_type": "stream",
     "text": [
      "Fitting 3 folds for each of 100 candidates, totalling 300 fits\n"
     ]
    },
    {
     "name": "stderr",
     "output_type": "stream",
     "text": [
      "[Parallel(n_jobs=-1)]: Done  34 tasks      | elapsed:   27.5s\n",
      "[Parallel(n_jobs=-1)]: Done 184 tasks      | elapsed:  2.8min\n",
      "[Parallel(n_jobs=-1)]: Done 300 out of 300 | elapsed:  4.7min finished\n"
     ]
    },
    {
     "name": "stdout",
     "output_type": "stream",
     "text": [
      "Fitting 3 folds for each of 100 candidates, totalling 300 fits\n"
     ]
    },
    {
     "name": "stderr",
     "output_type": "stream",
     "text": [
      "[Parallel(n_jobs=-1)]: Using backend LokyBackend with 8 concurrent workers.\n",
      "[Parallel(n_jobs=-1)]: Done  34 tasks      | elapsed:   22.8s\n",
      "[Parallel(n_jobs=-1)]: Done 184 tasks      | elapsed:  1.9min\n",
      "[Parallel(n_jobs=-1)]: Done 300 out of 300 | elapsed:  3.1min finished\n"
     ]
    },
    {
     "name": "stdout",
     "output_type": "stream",
     "text": [
      "[LibSVM]"
     ]
    },
    {
     "name": "stderr",
     "output_type": "stream",
     "text": [
      "/home/jeffc/anaconda3/lib/python3.7/site-packages/sklearn/svm/_base.py:231: ConvergenceWarning: Solver terminated early (max_iter=5000).  Consider pre-processing your data with StandardScaler or MinMaxScaler.\n",
      "  % self.max_iter, ConvergenceWarning)\n",
      "[Parallel(n_jobs=-1)]: Using backend LokyBackend with 8 concurrent workers.\n"
     ]
    },
    {
     "name": "stdout",
     "output_type": "stream",
     "text": [
      "Fitting 3 folds for each of 100 candidates, totalling 300 fits\n"
     ]
    },
    {
     "name": "stderr",
     "output_type": "stream",
     "text": [
      "[Parallel(n_jobs=-1)]: Done  34 tasks      | elapsed:    5.5s\n",
      "[Parallel(n_jobs=-1)]: Done 184 tasks      | elapsed:   29.9s\n",
      "[Parallel(n_jobs=-1)]: Done 300 out of 300 | elapsed:   48.1s finished\n",
      "[Parallel(n_jobs=-1)]: Using backend ThreadingBackend with 8 concurrent workers.\n",
      "[Parallel(n_jobs=-1)]: Done  34 tasks      | elapsed:    0.1s\n",
      "[Parallel(n_jobs=-1)]: Done 184 tasks      | elapsed:    0.3s\n",
      "[Parallel(n_jobs=-1)]: Done 305 out of 305 | elapsed:    0.4s finished\n"
     ]
    },
    {
     "name": "stdout",
     "output_type": "stream",
     "text": [
      "Fitting 3 folds for each of 100 candidates, totalling 300 fits\n"
     ]
    },
    {
     "name": "stderr",
     "output_type": "stream",
     "text": [
      "[Parallel(n_jobs=-1)]: Using backend LokyBackend with 8 concurrent workers.\n",
      "/home/jeffc/anaconda3/lib/python3.7/site-packages/joblib/externals/loky/process_executor.py:706: UserWarning: A worker stopped while some jobs were given to the executor. This can be caused by a too short worker timeout or by a memory leak.\n",
      "  \"timeout or by a memory leak.\", UserWarning\n",
      "[Parallel(n_jobs=-1)]: Done  34 tasks      | elapsed:   11.4s\n",
      "[Parallel(n_jobs=-1)]: Done 184 tasks      | elapsed:  1.0min\n",
      "[Parallel(n_jobs=-1)]: Done 300 out of 300 | elapsed:  1.9min finished\n"
     ]
    }
   ],
   "source": [
    "best_estimators = {}\n",
    "for m in tdm(models.keys()):\n",
    "    print(m)\n",
    "    pipeline = Pipeline([('scaler', StandardScaler()),\n",
    "                         ('poly', PolynomialFeatures(degree=2, interaction_only=True)),\n",
    "                         (m, models[m][0])])\n",
    "\n",
    "    rscv = RandomizedSearchCV(pipeline,\n",
    "                              models[m][1],\n",
    "                              scoring='recall',\n",
    "                              n_jobs=-1,\n",
    "                              cv=3,\n",
    "                              n_iter=100,\n",
    "                              verbose=True)\n",
    "\n",
    "    rscv.fit(X_train, y_train)\n",
    "    \n",
    "    best_estimators[m] = rscv.best_estimator_"
   ]
  },
  {
   "cell_type": "markdown",
   "metadata": {},
   "source": [
    "# Evaluation"
   ]
  },
  {
   "cell_type": "markdown",
   "metadata": {},
   "source": [
    "## Recall Scores (threshold = 0.5)"
   ]
  },
  {
   "cell_type": "code",
   "execution_count": 329,
   "metadata": {
    "ExecuteTime": {
     "end_time": "2020-01-27T04:21:35.606017Z",
     "start_time": "2020-01-27T04:21:22.903891Z"
    }
   },
   "outputs": [
    {
     "name": "stderr",
     "output_type": "stream",
     "text": [
      "\n",
      "\n",
      "\n",
      "  0%|          | 0/5 [00:00<?, ?it/s]\u001b[A\u001b[A\u001b[A\n",
      "\n",
      "\n",
      " 20%|██        | 1/5 [00:02<00:08,  2.15s/it]\u001b[A\u001b[A\u001b[A\n",
      "\n",
      "\n",
      " 40%|████      | 2/5 [00:05<00:07,  2.59s/it]\u001b[A\u001b[A\u001b[A\n",
      "\n",
      "\n",
      " 60%|██████    | 3/5 [00:10<00:06,  3.29s/it]\u001b[A\u001b[A\u001b[A[Parallel(n_jobs=8)]: Using backend ThreadingBackend with 8 concurrent workers.\n",
      "[Parallel(n_jobs=8)]: Done  34 tasks      | elapsed:    0.0s\n",
      "[Parallel(n_jobs=8)]: Done 184 tasks      | elapsed:    0.1s\n",
      "[Parallel(n_jobs=8)]: Done 305 out of 305 | elapsed:    0.1s finished\n",
      "[Parallel(n_jobs=8)]: Using backend ThreadingBackend with 8 concurrent workers.\n",
      "[Parallel(n_jobs=8)]: Done  34 tasks      | elapsed:    0.0s\n",
      "[Parallel(n_jobs=8)]: Done 184 tasks      | elapsed:    0.0s\n",
      "[Parallel(n_jobs=8)]: Done 305 out of 305 | elapsed:    0.1s finished\n",
      "\n",
      "\n",
      "\n",
      " 80%|████████  | 4/5 [00:12<00:02,  2.74s/it]\u001b[A\u001b[A\u001b[A\n",
      "\n",
      "\n",
      "100%|██████████| 5/5 [00:12<00:00,  2.54s/it]\u001b[A\u001b[A\u001b[A\n"
     ]
    },
    {
     "data": {
      "text/html": [
       "<div>\n",
       "<style scoped>\n",
       "    .dataframe tbody tr th:only-of-type {\n",
       "        vertical-align: middle;\n",
       "    }\n",
       "\n",
       "    .dataframe tbody tr th {\n",
       "        vertical-align: top;\n",
       "    }\n",
       "\n",
       "    .dataframe thead th {\n",
       "        text-align: right;\n",
       "    }\n",
       "</style>\n",
       "<table border=\"1\" class=\"dataframe\">\n",
       "  <thead>\n",
       "    <tr style=\"text-align: right;\">\n",
       "      <th></th>\n",
       "      <th>train recall</th>\n",
       "      <th>test recall</th>\n",
       "    </tr>\n",
       "  </thead>\n",
       "  <tbody>\n",
       "    <tr>\n",
       "      <th>logr</th>\n",
       "      <td>78.6156</td>\n",
       "      <td>82.8125</td>\n",
       "    </tr>\n",
       "    <tr>\n",
       "      <th>knn</th>\n",
       "      <td>57.8881</td>\n",
       "      <td>57.2917</td>\n",
       "    </tr>\n",
       "    <tr>\n",
       "      <th>svm</th>\n",
       "      <td>78.6164</td>\n",
       "      <td>78.6458</td>\n",
       "    </tr>\n",
       "    <tr>\n",
       "      <th>rf</th>\n",
       "      <td>85.0055</td>\n",
       "      <td>84.3750</td>\n",
       "    </tr>\n",
       "    <tr>\n",
       "      <th>lgbm</th>\n",
       "      <td>90.3446</td>\n",
       "      <td>93.2292</td>\n",
       "    </tr>\n",
       "  </tbody>\n",
       "</table>\n",
       "</div>"
      ],
      "text/plain": [
       "      train recall  test recall\n",
       "logr       78.6156      82.8125\n",
       "knn        57.8881      57.2917\n",
       "svm        78.6164      78.6458\n",
       "rf         85.0055      84.3750\n",
       "lgbm       90.3446      93.2292"
      ]
     },
     "execution_count": 329,
     "metadata": {},
     "output_type": "execute_result"
    }
   ],
   "source": [
    "recall_scores = {}\n",
    "recall_scores['train recall'] = []\n",
    "recall_scores['test recall'] = []\n",
    "for m in best_estimators.keys():\n",
    "    best = best_estimators[m]\n",
    "    y_train_pred = best.predict(X_train)\n",
    "    y_test_pred = best.predict(X_test)\n",
    "    recall_scores['train recall'].append(round(100 * cross_val_score(best,\n",
    "                                                               X_train,\n",
    "                                                               y_train,\n",
    "                                                               scoring='recall',\n",
    "                                                               n_jobs=-1).mean(), 4))\n",
    "    recall_scores['test recall'].append(round(100 * recall_score(y_test, y_test_pred), 4))\n",
    "\n",
    "recall_scores_df = pd.DataFrame(recall_scores, index=list(best_estimators.keys()))\n",
    "recall_scores_df"
   ]
  },
  {
   "cell_type": "markdown",
   "metadata": {},
   "source": [
    "## Learning Curves"
   ]
  },
  {
   "cell_type": "code",
   "execution_count": 414,
   "metadata": {
    "ExecuteTime": {
     "end_time": "2020-01-27T05:33:00.085543Z",
     "start_time": "2020-01-27T05:32:18.064988Z"
    }
   },
   "outputs": [
    {
     "ename": "KeyboardInterrupt",
     "evalue": "",
     "output_type": "error",
     "traceback": [
      "\u001b[0;31m---------------------------------------------------------------------------\u001b[0m",
      "\u001b[0;31mKeyboardInterrupt\u001b[0m                         Traceback (most recent call last)",
      "\u001b[0;32m<ipython-input-414-110f550f787b>\u001b[0m in \u001b[0;36m<module>\u001b[0;34m\u001b[0m\n\u001b[1;32m     13\u001b[0m                                                             \u001b[0mcv\u001b[0m\u001b[0;34m=\u001b[0m\u001b[0;36m3\u001b[0m\u001b[0;34m,\u001b[0m\u001b[0;34m\u001b[0m\u001b[0;34m\u001b[0m\u001b[0m\n\u001b[1;32m     14\u001b[0m                                                             \u001b[0mscoring\u001b[0m\u001b[0;34m=\u001b[0m\u001b[0;34m'recall'\u001b[0m\u001b[0;34m,\u001b[0m\u001b[0;34m\u001b[0m\u001b[0;34m\u001b[0m\u001b[0m\n\u001b[0;32m---> 15\u001b[0;31m                                                             n_jobs=-1)\n\u001b[0m\u001b[1;32m     16\u001b[0m \u001b[0;34m\u001b[0m\u001b[0m\n\u001b[1;32m     17\u001b[0m     \u001b[0msns\u001b[0m\u001b[0;34m.\u001b[0m\u001b[0mlineplot\u001b[0m\u001b[0;34m(\u001b[0m\u001b[0mtrain_sizes\u001b[0m\u001b[0;34m,\u001b[0m \u001b[0mtrain_scores\u001b[0m\u001b[0;34m.\u001b[0m\u001b[0mmean\u001b[0m\u001b[0;34m(\u001b[0m\u001b[0maxis\u001b[0m\u001b[0;34m=\u001b[0m\u001b[0;36m1\u001b[0m\u001b[0;34m)\u001b[0m\u001b[0;34m,\u001b[0m \u001b[0mmarkers\u001b[0m\u001b[0;34m=\u001b[0m\u001b[0;32mTrue\u001b[0m\u001b[0;34m,\u001b[0m \u001b[0max\u001b[0m\u001b[0;34m=\u001b[0m\u001b[0maxes\u001b[0m\u001b[0;34m[\u001b[0m\u001b[0mi\u001b[0m\u001b[0;34m]\u001b[0m\u001b[0;34m)\u001b[0m\u001b[0;34m.\u001b[0m\u001b[0mset_title\u001b[0m\u001b[0;34m(\u001b[0m\u001b[0mm\u001b[0m\u001b[0;34m)\u001b[0m\u001b[0;34m\u001b[0m\u001b[0;34m\u001b[0m\u001b[0m\n",
      "\u001b[0;32m~/anaconda3/lib/python3.7/site-packages/sklearn/model_selection/_validation.py\u001b[0m in \u001b[0;36mlearning_curve\u001b[0;34m(estimator, X, y, groups, train_sizes, cv, scoring, exploit_incremental_learning, n_jobs, pre_dispatch, verbose, shuffle, random_state, error_score, return_times)\u001b[0m\n\u001b[1;32m   1265\u001b[0m             \u001b[0mparameters\u001b[0m\u001b[0;34m=\u001b[0m\u001b[0;32mNone\u001b[0m\u001b[0;34m,\u001b[0m \u001b[0mfit_params\u001b[0m\u001b[0;34m=\u001b[0m\u001b[0;32mNone\u001b[0m\u001b[0;34m,\u001b[0m \u001b[0mreturn_train_score\u001b[0m\u001b[0;34m=\u001b[0m\u001b[0;32mTrue\u001b[0m\u001b[0;34m,\u001b[0m\u001b[0;34m\u001b[0m\u001b[0;34m\u001b[0m\u001b[0m\n\u001b[1;32m   1266\u001b[0m             error_score=error_score, return_times=return_times)\n\u001b[0;32m-> 1267\u001b[0;31m             for train, test in train_test_proportions)\n\u001b[0m\u001b[1;32m   1268\u001b[0m         \u001b[0mout\u001b[0m \u001b[0;34m=\u001b[0m \u001b[0mnp\u001b[0m\u001b[0;34m.\u001b[0m\u001b[0marray\u001b[0m\u001b[0;34m(\u001b[0m\u001b[0mout\u001b[0m\u001b[0;34m)\u001b[0m\u001b[0;34m\u001b[0m\u001b[0;34m\u001b[0m\u001b[0m\n\u001b[1;32m   1269\u001b[0m         \u001b[0mn_cv_folds\u001b[0m \u001b[0;34m=\u001b[0m \u001b[0mout\u001b[0m\u001b[0;34m.\u001b[0m\u001b[0mshape\u001b[0m\u001b[0;34m[\u001b[0m\u001b[0;36m0\u001b[0m\u001b[0;34m]\u001b[0m \u001b[0;34m//\u001b[0m \u001b[0mn_unique_ticks\u001b[0m\u001b[0;34m\u001b[0m\u001b[0;34m\u001b[0m\u001b[0m\n",
      "\u001b[0;32m~/anaconda3/lib/python3.7/site-packages/joblib/parallel.py\u001b[0m in \u001b[0;36m__call__\u001b[0;34m(self, iterable)\u001b[0m\n\u001b[1;32m   1015\u001b[0m \u001b[0;34m\u001b[0m\u001b[0m\n\u001b[1;32m   1016\u001b[0m             \u001b[0;32mwith\u001b[0m \u001b[0mself\u001b[0m\u001b[0;34m.\u001b[0m\u001b[0m_backend\u001b[0m\u001b[0;34m.\u001b[0m\u001b[0mretrieval_context\u001b[0m\u001b[0;34m(\u001b[0m\u001b[0;34m)\u001b[0m\u001b[0;34m:\u001b[0m\u001b[0;34m\u001b[0m\u001b[0;34m\u001b[0m\u001b[0m\n\u001b[0;32m-> 1017\u001b[0;31m                 \u001b[0mself\u001b[0m\u001b[0;34m.\u001b[0m\u001b[0mretrieve\u001b[0m\u001b[0;34m(\u001b[0m\u001b[0;34m)\u001b[0m\u001b[0;34m\u001b[0m\u001b[0;34m\u001b[0m\u001b[0m\n\u001b[0m\u001b[1;32m   1018\u001b[0m             \u001b[0;31m# Make sure that we get a last message telling us we are done\u001b[0m\u001b[0;34m\u001b[0m\u001b[0;34m\u001b[0m\u001b[0;34m\u001b[0m\u001b[0m\n\u001b[1;32m   1019\u001b[0m             \u001b[0melapsed_time\u001b[0m \u001b[0;34m=\u001b[0m \u001b[0mtime\u001b[0m\u001b[0;34m.\u001b[0m\u001b[0mtime\u001b[0m\u001b[0;34m(\u001b[0m\u001b[0;34m)\u001b[0m \u001b[0;34m-\u001b[0m \u001b[0mself\u001b[0m\u001b[0;34m.\u001b[0m\u001b[0m_start_time\u001b[0m\u001b[0;34m\u001b[0m\u001b[0;34m\u001b[0m\u001b[0m\n",
      "\u001b[0;32m~/anaconda3/lib/python3.7/site-packages/joblib/parallel.py\u001b[0m in \u001b[0;36mretrieve\u001b[0;34m(self)\u001b[0m\n\u001b[1;32m    907\u001b[0m             \u001b[0;32mtry\u001b[0m\u001b[0;34m:\u001b[0m\u001b[0;34m\u001b[0m\u001b[0;34m\u001b[0m\u001b[0m\n\u001b[1;32m    908\u001b[0m                 \u001b[0;32mif\u001b[0m \u001b[0mgetattr\u001b[0m\u001b[0;34m(\u001b[0m\u001b[0mself\u001b[0m\u001b[0;34m.\u001b[0m\u001b[0m_backend\u001b[0m\u001b[0;34m,\u001b[0m \u001b[0;34m'supports_timeout'\u001b[0m\u001b[0;34m,\u001b[0m \u001b[0;32mFalse\u001b[0m\u001b[0;34m)\u001b[0m\u001b[0;34m:\u001b[0m\u001b[0;34m\u001b[0m\u001b[0;34m\u001b[0m\u001b[0m\n\u001b[0;32m--> 909\u001b[0;31m                     \u001b[0mself\u001b[0m\u001b[0;34m.\u001b[0m\u001b[0m_output\u001b[0m\u001b[0;34m.\u001b[0m\u001b[0mextend\u001b[0m\u001b[0;34m(\u001b[0m\u001b[0mjob\u001b[0m\u001b[0;34m.\u001b[0m\u001b[0mget\u001b[0m\u001b[0;34m(\u001b[0m\u001b[0mtimeout\u001b[0m\u001b[0;34m=\u001b[0m\u001b[0mself\u001b[0m\u001b[0;34m.\u001b[0m\u001b[0mtimeout\u001b[0m\u001b[0;34m)\u001b[0m\u001b[0;34m)\u001b[0m\u001b[0;34m\u001b[0m\u001b[0;34m\u001b[0m\u001b[0m\n\u001b[0m\u001b[1;32m    910\u001b[0m                 \u001b[0;32melse\u001b[0m\u001b[0;34m:\u001b[0m\u001b[0;34m\u001b[0m\u001b[0;34m\u001b[0m\u001b[0m\n\u001b[1;32m    911\u001b[0m                     \u001b[0mself\u001b[0m\u001b[0;34m.\u001b[0m\u001b[0m_output\u001b[0m\u001b[0;34m.\u001b[0m\u001b[0mextend\u001b[0m\u001b[0;34m(\u001b[0m\u001b[0mjob\u001b[0m\u001b[0;34m.\u001b[0m\u001b[0mget\u001b[0m\u001b[0;34m(\u001b[0m\u001b[0;34m)\u001b[0m\u001b[0;34m)\u001b[0m\u001b[0;34m\u001b[0m\u001b[0;34m\u001b[0m\u001b[0m\n",
      "\u001b[0;32m~/anaconda3/lib/python3.7/site-packages/joblib/_parallel_backends.py\u001b[0m in \u001b[0;36mwrap_future_result\u001b[0;34m(future, timeout)\u001b[0m\n\u001b[1;32m    560\u001b[0m         AsyncResults.get from multiprocessing.\"\"\"\n\u001b[1;32m    561\u001b[0m         \u001b[0;32mtry\u001b[0m\u001b[0;34m:\u001b[0m\u001b[0;34m\u001b[0m\u001b[0;34m\u001b[0m\u001b[0m\n\u001b[0;32m--> 562\u001b[0;31m             \u001b[0;32mreturn\u001b[0m \u001b[0mfuture\u001b[0m\u001b[0;34m.\u001b[0m\u001b[0mresult\u001b[0m\u001b[0;34m(\u001b[0m\u001b[0mtimeout\u001b[0m\u001b[0;34m=\u001b[0m\u001b[0mtimeout\u001b[0m\u001b[0;34m)\u001b[0m\u001b[0;34m\u001b[0m\u001b[0;34m\u001b[0m\u001b[0m\n\u001b[0m\u001b[1;32m    563\u001b[0m         \u001b[0;32mexcept\u001b[0m \u001b[0mLokyTimeoutError\u001b[0m\u001b[0;34m:\u001b[0m\u001b[0;34m\u001b[0m\u001b[0;34m\u001b[0m\u001b[0m\n\u001b[1;32m    564\u001b[0m             \u001b[0;32mraise\u001b[0m \u001b[0mTimeoutError\u001b[0m\u001b[0;34m(\u001b[0m\u001b[0;34m)\u001b[0m\u001b[0;34m\u001b[0m\u001b[0;34m\u001b[0m\u001b[0m\n",
      "\u001b[0;32m~/anaconda3/lib/python3.7/concurrent/futures/_base.py\u001b[0m in \u001b[0;36mresult\u001b[0;34m(self, timeout)\u001b[0m\n\u001b[1;32m    428\u001b[0m                 \u001b[0;32mreturn\u001b[0m \u001b[0mself\u001b[0m\u001b[0;34m.\u001b[0m\u001b[0m__get_result\u001b[0m\u001b[0;34m(\u001b[0m\u001b[0;34m)\u001b[0m\u001b[0;34m\u001b[0m\u001b[0;34m\u001b[0m\u001b[0m\n\u001b[1;32m    429\u001b[0m \u001b[0;34m\u001b[0m\u001b[0m\n\u001b[0;32m--> 430\u001b[0;31m             \u001b[0mself\u001b[0m\u001b[0;34m.\u001b[0m\u001b[0m_condition\u001b[0m\u001b[0;34m.\u001b[0m\u001b[0mwait\u001b[0m\u001b[0;34m(\u001b[0m\u001b[0mtimeout\u001b[0m\u001b[0;34m)\u001b[0m\u001b[0;34m\u001b[0m\u001b[0;34m\u001b[0m\u001b[0m\n\u001b[0m\u001b[1;32m    431\u001b[0m \u001b[0;34m\u001b[0m\u001b[0m\n\u001b[1;32m    432\u001b[0m             \u001b[0;32mif\u001b[0m \u001b[0mself\u001b[0m\u001b[0;34m.\u001b[0m\u001b[0m_state\u001b[0m \u001b[0;32min\u001b[0m \u001b[0;34m[\u001b[0m\u001b[0mCANCELLED\u001b[0m\u001b[0;34m,\u001b[0m \u001b[0mCANCELLED_AND_NOTIFIED\u001b[0m\u001b[0;34m]\u001b[0m\u001b[0;34m:\u001b[0m\u001b[0;34m\u001b[0m\u001b[0;34m\u001b[0m\u001b[0m\n",
      "\u001b[0;32m~/anaconda3/lib/python3.7/threading.py\u001b[0m in \u001b[0;36mwait\u001b[0;34m(self, timeout)\u001b[0m\n\u001b[1;32m    294\u001b[0m         \u001b[0;32mtry\u001b[0m\u001b[0;34m:\u001b[0m    \u001b[0;31m# restore state no matter what (e.g., KeyboardInterrupt)\u001b[0m\u001b[0;34m\u001b[0m\u001b[0;34m\u001b[0m\u001b[0m\n\u001b[1;32m    295\u001b[0m             \u001b[0;32mif\u001b[0m \u001b[0mtimeout\u001b[0m \u001b[0;32mis\u001b[0m \u001b[0;32mNone\u001b[0m\u001b[0;34m:\u001b[0m\u001b[0;34m\u001b[0m\u001b[0;34m\u001b[0m\u001b[0m\n\u001b[0;32m--> 296\u001b[0;31m                 \u001b[0mwaiter\u001b[0m\u001b[0;34m.\u001b[0m\u001b[0macquire\u001b[0m\u001b[0;34m(\u001b[0m\u001b[0;34m)\u001b[0m\u001b[0;34m\u001b[0m\u001b[0;34m\u001b[0m\u001b[0m\n\u001b[0m\u001b[1;32m    297\u001b[0m                 \u001b[0mgotit\u001b[0m \u001b[0;34m=\u001b[0m \u001b[0;32mTrue\u001b[0m\u001b[0;34m\u001b[0m\u001b[0;34m\u001b[0m\u001b[0m\n\u001b[1;32m    298\u001b[0m             \u001b[0;32melse\u001b[0m\u001b[0;34m:\u001b[0m\u001b[0;34m\u001b[0m\u001b[0;34m\u001b[0m\u001b[0m\n",
      "\u001b[0;31mKeyboardInterrupt\u001b[0m: "
     ]
    },
    {
     "data": {
      "image/png": "[encoded data removed]",
      "text/plain": [
       "<Figure size 1440x1440 with 8 Axes>"
      ]
     },
     "metadata": {
      "needs_background": "light"
     },
     "output_type": "display_data"
    }
   ],
   "source": [
    "X = get_data('details')['X']\n",
    "y = get_data('details')['y']\n",
    "\n",
    "fig, ax = plt.subplots(4, 2, figsize=(20,20))\n",
    "axes = [ax[0,0], ax[0,1], ax[1,0], ax[1,1],\n",
    "        ax[2,0], ax[2,1], ax[3,0], ax[3,1]]\n",
    "\n",
    "for i, m in enumerate(best_estimators.keys()):\n",
    "    train_sizes, train_scores, test_scores = learning_curve(best_estimators[m],\n",
    "                                                            X,\n",
    "                                                            y,\n",
    "                                                            train_sizes=np.linspace(0.1, 0.9, 10),\n",
    "                                                            cv=3,\n",
    "                                                            scoring='recall',\n",
    "                                                            n_jobs=-1)\n",
    "    \n",
    "    sns.lineplot(train_sizes, train_scores.mean(axis=1), markers=True, ax=axes[i]).set_title(m)\n",
    "    sns.lineplot(train_sizes, test_scores.mean(axis=1), markers=True, ax=axes[i])\n",
    "    axes[i].legend(['train', 'test']);"
   ]
  },
  {
   "cell_type": "markdown",
   "metadata": {},
   "source": [
    "## Precision-Recall Curves"
   ]
  },
  {
   "cell_type": "code",
   "execution_count": null,
   "metadata": {
    "ExecuteTime": {
     "end_time": "2020-01-27T05:33:00.091163Z",
     "start_time": "2020-01-27T05:32:52.674Z"
    }
   },
   "outputs": [],
   "source": [
    "fig, ax = plt.subplots(4, 2, figsize=(20,20))\n",
    "axes = [ax[0,0], ax[0,1], ax[1,0], ax[1,1],\n",
    "        ax[2,0], ax[2,1], ax[3,0], ax[3,1]]\n",
    "\n",
    "for i, m in enumerate(best_estimators.keys()):\n",
    "    train_sizes, train_scores, test_scores = learning_curve(best_estimators[m],\n",
    "                                                            X,\n",
    "                                                            y,\n",
    "                                                            train_sizes=np.linspace(0.1, 0.9, 20),\n",
    "                                                            cv=3,\n",
    "                                                            scoring='recall',\n",
    "                                                            n_jobs=-1)\n",
    "    \n",
    "    sns.lineplot(train_sizes, train_scores.mean(axis=1), markers=True, ax=axes[i]).set_title(m)\n",
    "    sns.lineplot(train_sizes, test_scores.mean(axis=1), markers=True, ax=axes[i])\n",
    "    axes[i].legend(['train', 'test']);"
   ]
  },
  {
   "cell_type": "code",
   "execution_count": 413,
   "metadata": {
    "ExecuteTime": {
     "end_time": "2020-01-27T05:28:20.671526Z",
     "start_time": "2020-01-27T05:28:16.832951Z"
    }
   },
   "outputs": [
    {
     "name": "stderr",
     "output_type": "stream",
     "text": [
      "[Parallel(n_jobs=8)]: Using backend ThreadingBackend with 8 concurrent workers.\n",
      "[Parallel(n_jobs=8)]: Done  34 tasks      | elapsed:    0.0s\n",
      "[Parallel(n_jobs=8)]: Done 184 tasks      | elapsed:    0.0s\n",
      "[Parallel(n_jobs=8)]: Done 305 out of 305 | elapsed:    0.1s finished\n"
     ]
    },
    {
     "data": {
      "image/png": "[encoded data removed]",
      "text/plain": [
       "<Figure size 720x720 with 1 Axes>"
      ]
     },
     "metadata": {
      "needs_background": "light"
     },
     "output_type": "display_data"
    }
   ],
   "source": [
    "fig, ax = plt.subplots(figsize=(10,10))\n",
    "for m in best_estimators.keys():\n",
    "    plot_precision_recall_curve(best_estimators[m], X, y, name=m, ax=ax)"
   ]
  }
 ],
 "metadata": {
  "kernelspec": {
   "display_name": "Python 3",
   "language": "python",
   "name": "python3"
  },
  "language_info": {
   "codemirror_mode": {
    "name": "ipython",
    "version": 3
   },
   "file_extension": ".py",
   "mimetype": "text/x-python",
   "name": "python",
   "nbconvert_exporter": "python",
   "pygments_lexer": "ipython3",
   "version": "3.7.5"
  },
  "latex_envs": {
   "LaTeX_envs_menu_present": true,
   "autoclose": false,
   "autocomplete": true,
   "bibliofile": "biblio.bib",
   "cite_by": "apalike",
   "current_citInitial": 1,
   "eqLabelWithNumbers": true,
   "eqNumInitial": 1,
   "hotkeys": {
    "equation": "Ctrl-E",
    "itemize": "Ctrl-I"
   },
   "labels_anchors": false,
   "latex_user_defs": false,
   "report_style_numbering": false,
   "user_envs_cfg": false
  },
  "toc": {
   "base_numbering": 1,
   "nav_menu": {},
   "number_sections": true,
   "sideBar": true,
   "skip_h1_title": false,
   "title_cell": "Table of Contents",
   "title_sidebar": "Contents",
   "toc_cell": false,
   "toc_position": {},
   "toc_section_display": true,
   "toc_window_display": false
  },
  "varInspector": {
   "cols": {
    "lenName": 16,
    "lenType": 16,
    "lenVar": 40
   },
   "kernels_config": {
    "python": {
     "delete_cmd_postfix": "",
     "delete_cmd_prefix": "del ",
     "library": "var_list.py",
     "varRefreshCmd": "print(var_dic_list())"
    },
    "r": {
     "delete_cmd_postfix": ") ",
     "delete_cmd_prefix": "rm(",
     "library": "var_list.r",
     "varRefreshCmd": "cat(var_dic_list()) "
    }
   },
   "types_to_exclude": [
    "module",
    "function",
    "builtin_function_or_method",
    "instance",
    "_Feature"
   ],
   "window_display": false
  }
 },
 "nbformat": 4,
 "nbformat_minor": 2
}
